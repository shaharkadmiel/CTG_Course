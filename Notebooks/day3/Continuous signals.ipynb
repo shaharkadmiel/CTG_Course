{
 "cells": [
  {
   "cell_type": "markdown",
   "metadata": {},
   "source": [
    "<div\n",
    "    style='background-image: url(\"images/waves.jpg\"); padding: 0px;\n",
    "    background-size: cover; border-radius: 10px; height: 350px;\n",
    "    background-position: 50% 50%'>\n",
    "    <div\n",
    "        style=\"position: relative; top: 70%; margin: 20px; padding: 10px;\n",
    "        background: rgba(255 , 255 , 255 , 0.8); width: 95%; height: 80px;\n",
    "        border-radius: 10px\">\n",
    "        <div\n",
    "            style=\"position: relative; top: 50%;\n",
    "            transform: translatey(-50%)\">\n",
    "            <div\n",
    "                style=\"font-size: large; font-weight: 900;\n",
    "                color: rgba(0 , 0 , 0 , 0.9);\n",
    "                line-height: 100%\">\n",
    "                Introduction to seismo-acoustic waves in the Earth’s spheres\n",
    "            </div>\n",
    "            <div\n",
    "                style=\"font-size: large; padding-top: 20px;\n",
    "                color: rgba(0 , 0 , 0 , 0.7)\">\n",
    "                <p>Interpreting continuous signals by <em>Pieter Smets</em>, CEG, TU Delft\n",
    "            </div>\n",
    "        </div>\n",
    "    </div>\n",
    "</div>"
   ]
  },
  {
   "cell_type": "markdown",
   "metadata": {},
   "source": [
    "# Interpreting continuous signals\n",
    "---\n",
    "\n",
    "## Introduction\n",
    "In this session we will discuss array processing techniques of continuous signals and the ability to obtain more insight in the medium without other information. As such, continuous ambient noise becomes valuable even when you are only interested in a transient event!\n",
    "\n",
    "The workflow is similar as yesterday: acquire array metadata and raw waveforms and try to get a feeling for what kind of signals we are able to see in the waveforms at different frequency bands.\n",
    "\n",
    "Next we will use our array processing knowledge to retrieve the wavefront parameters to characterize the continuous signals which will be used to *probe* the medium."
   ]
  },
  {
   "cell_type": "markdown",
   "metadata": {},
   "source": [
    "## Motivation: important relation between array observation and wave propagation\n",
    "\n",
    "In day 2 you may have noticed from the epicentral infrasound that the back azimuth does not directly point towards the epicentre. Hence, the array does not always point towards the source! Or does it?\n",
    "\n",
    "In the atmosphere, propagation effects between source and receiver can alter the path. As such, the array will not always point towards the source. If you know where the source is located, you can use this slowness offset as a method to probe the medium!\n",
    "\n",
    "A 5 min introduction on wave propagation in the atmosphere: [how does infrasound propagate and what do we expect at the array?](arrays_and_propagation.pdf)\n",
    "\n",
    "This figure illustrates the propagation effect of cross-winds altering the back azimuth of the plane wave. As sound propagates, it drifts sideways due to the cross-wind in the stratosphere. In order to construct a path from the source, the volcano, to the array the signal needs to start slightly in the wind and not directing towards the array. Next, the sound drifts along the path and arrives at the array with the starting angle. As such, the back azimuth angle does not direct towards the source.\n",
    "![relation.png](images/relation.png)\n",
    "\n",
    "The atmosphere is a moving medium, where mainly winds has a very strong effect on how sound propagations and what we can or do observe at the array. The solid earth and ocean are static, however, other phenomena and situations can and will have a significant impact on your array observations. \n",
    "Seismic arrays are for example very senstive to variations in the [geology](https://pubs.geoscienceworld.org/ssa/bssa/article/89/4/989/102851/teleseismic-slowness-azimuth-station-corrections) affects the array sensitivity, while underwater bathymetric blocking, scattering and reflections cause difficulties in what you detect.\n",
    "Therefore, the combination of wave propagation and array processing is crucial in a consize analysis of your signal of interest.\n",
    "\n",
    "### What infrasound apparent velocities do we expect?\n",
    "Retrieved apparent velocities are not random. As explained in day 1, the slowest apparent velocity equals the local speed of sound of a horizontally propagating signal. The fastest apparent velocity (inclined waves) of farfield signals is constrained by the velocity profile in the atmosphere.\n",
    "![apparent_velocity_range.png](images/apparent_velocity_range.png)"
   ]
  },
  {
   "cell_type": "markdown",
   "metadata": {},
   "source": [
    "## What is signal?\n",
    "What kind of signal you are interested in kind differ. Is it an impulsive transient, a repeating event or a continuous noise like hum? In some situations, a strong signal with a high SNR can be your noise.\n",
    "\n",
    "Check out the example of the atmospheric signals of 5th underground nuclear test of DPRK on 12th Februari 2013. Infrasound signals are detected on the IMS infrasound arrays of the CTBT: a) IS45 in Russia and b) IS30 in Japan. Since the source is underground, seismic signals couple to the atmosphere but do not producing very high SNR signals. The <span style=\"color:red\">detections related to the nuclear test are marked in **red**</span>, <span style=\"color:blue\">simulated plane wave characteristic using ray theorie are shown in **blue**</span>.\n",
    "Did you notice that at array IS45 impulsive events with higher SNR from 300$^\\circ$ are present? The signal we are interested in is not the strongest and clearest one!\n",
    "\n",
    "![dprk.png](images/dprk.png)\n"
   ]
  },
  {
   "cell_type": "markdown",
   "metadata": {},
   "source": [
    "## Continuous signals and ambient noise\n",
    "Similar array processing techniques can be applied to detect and study continuous signals. Continuous sources are characterized by a narrow banded frequency spectrum.\n",
    "\n",
    "In the solid earth and atmosphere, the diffuse ambient wavefield is dominated by small pressure variations originating from interacting ocean surface waves. Ocean surface waves with the same period, typically 10 seconds, and a near opposite direction non-linearly interact generating standing waves.\n",
    "\n",
    "<p><a href=\"https://commons.wikimedia.org/wiki/File:Waventerference.gif#/media/File:Waventerference.gif\"><img src=\"https://upload.wikimedia.org/wikipedia/commons/5/5d/Waventerference.gif\" alt=\"Waventerference.gif\"></a><br>By <a href=\"//commons.wikimedia.org/w/index.php?title=User:Lookang&amp;action=edit&amp;redlink=1\" class=\"new\" title=\"User:Lookang (page does not exist)\">Lookangmany</a> thanks to <a rel=\"nofollow\" class=\"external text\" href=\"http://www.compadre.org/osp/items/detail.cfm?ID=13014\">author of original simulation = Wolfgang Christian and Francisco Esquembre</a> <a rel=\"nofollow\" class=\"external text\" href=\"http://www.compadre.org/osp/items/detail.cfm?ID=7305\">author of Easy Java Simulation = Francisco Esquembre</a> - <span class=\"int-own-work\" lang=\"en\">Own work</span>, <a href=\"https://creativecommons.org/licenses/by-sa/4.0\" title=\"Creative Commons Attribution-Share Alike 4.0\">CC BY-SA 4.0</a>, <a href=\"https://commons.wikimedia.org/w/index.php?curid=39309437\">Link</a></p>\n",
    "\n",
    "Standing ocean surface waves radiate acoustic energy at twice the ocean surface frequency in the ocean and atmosphere (known as microbaroms) and coupling through the water column with the solid seafloor (known as secondary microseisms). In the solid earth, the interaction of the individual surface waves with the bathymetry also generates small pressure fluctuations at the ocean surface wave frequency (known as primary microseisms).\n",
    "\n",
    "Most energetic ocean surface waves are wind waves with a typical period of 10 seconds. Ocean surface waves excited by wind can stay in motion for a long time. Excited ocean surface without the wind forcing is known as swell. Interacting patches of swell-swell of wind waves and swell generate most of the microbarom/microseism signals. In addition, wind waves and swell near the coast reflect from steep walls generating standing waves as well. Near-coastal microseisms produce higher frequency signals due to the shallower depth.\n",
    "\n",
    "More about microbarom- and microseism source modelling: have a look at [Section 2.3 of my thesis](https://doi.org/10.4233/uuid:517f8597-9c24-4d01-83ed-0f430353e905).\n",
    "\n",
    "A snapshot of microbarom activity in the Northern Hemisphere at 6 January 2010 indicating the typical microbarom hotspots.\n",
    "![microbaroms.png](images/microbaroms.png)"
   ]
  },
  {
   "cell_type": "markdown",
   "metadata": {},
   "source": [
    "# Day 3 : continuous signals"
   ]
  },
  {
   "cell_type": "code",
   "execution_count": null,
   "metadata": {},
   "outputs": [],
   "source": [
    "%matplotlib inline\n",
    "\n",
    "import numpy as np\n",
    "import matplotlib.pyplot as plt\n",
    "\n",
    "from pandas.plotting import register_matplotlib_converters\n",
    "register_matplotlib_converters()\n",
    "\n",
    "from obspy import UTCDateTime\n",
    "from obspy.clients.fdsn import Client as fdsnClient"
   ]
  },
  {
   "cell_type": "markdown",
   "metadata": {},
   "source": [
    "## Example: a transient and continuous signal"
   ]
  },
  {
   "cell_type": "code",
   "execution_count": null,
   "metadata": {},
   "outputs": [],
   "source": [
    "# Get the data and array metadata (inventory)\n",
    "sta = 'I53*'\n",
    "t0  = UTCDateTime(\"2018-02-01T00:00:00.Z\");\n",
    "t1  = UTCDateTime(\"2018-02-01T01:30:00.Z\");\n",
    "\n",
    "# get StationXML\n",
    "client = fdsnClient('IRIS')\n",
    "net = '*'\n",
    "cha = 'BDF'\n",
    "\n",
    "inv = client.get_stations(\n",
    "    network=net,\n",
    "    station=sta,\n",
    "    channel=cha,\n",
    "    starttime=t0,\n",
    "    endtime=t1,\n",
    "    level='response',\n",
    "    includerestricted=False,\n",
    ")\n",
    "print(inv)"
   ]
  },
  {
   "cell_type": "markdown",
   "metadata": {},
   "source": [
    "### Fetching waveforms"
   ]
  },
  {
   "cell_type": "code",
   "execution_count": null,
   "metadata": {
    "scrolled": true
   },
   "outputs": [],
   "source": [
    "raw_stream = client.get_waveforms(net, sta, '*', cha, t0, t1)\n",
    "print(raw_stream)"
   ]
  },
  {
   "cell_type": "markdown",
   "metadata": {},
   "source": [
    "Plot the raw waveforms using Obspy. Likely you need to run the command twice such that the images appears. Note: Obspy's plot routine by default will plot all traces with more than 400,000 samples with a fast method skipping samples and providing a static figure (`method='fast'`, default). To disable provide `method='full'`."
   ]
  },
  {
   "cell_type": "code",
   "execution_count": null,
   "metadata": {
    "scrolled": false
   },
   "outputs": [],
   "source": [
    "raw_stream.plot(size=(600, 600))"
   ]
  },
  {
   "cell_type": "markdown",
   "metadata": {},
   "source": [
    "Alternatively, we can plot the full traces by proper interactive plotting. Mind that plotting long traces for an entire array generates an enormous figure!"
   ]
  },
  {
   "cell_type": "code",
   "execution_count": null,
   "metadata": {},
   "outputs": [],
   "source": [
    "def plot_waveforms_utc(stream):\n",
    "    fig, ax = plt.subplots(stream.count(), 1, sharex=True, sharey=True,\n",
    "                           figsize=(7, 1 * stream.count()))\n",
    "    fig.subplots_adjust(hspace=0)\n",
    "    for i, tr in enumerate(stream):\n",
    "        times = tr.times(\"matplotlib\")\n",
    "        axi = ax[i]\n",
    "        axi.plot(times, tr.data, 'k', lw=0.5)\n",
    "        axi.xaxis_date()\n",
    "        axi.text(0.99, 0.97, tr.id, ha='right', va='top', transform=axi.transAxes)\n",
    "        \n",
    "    axi.set_xlim(times[0], times[-1])\n",
    "    axi.set_xlabel('Time (UTC)') \n",
    "    fig.autofmt_xdate()\n",
    "    \n",
    "    try:\n",
    "        for step in tr.stats.processing:\n",
    "            if 'remove_response' in step or 'remove_sensitivity' in step:\n",
    "                axi.set_ylabel('Pressure, Pa')\n",
    "            else:\n",
    "                axi.set_ylabel('Counts')\n",
    "    except AttributeError:\n",
    "        axi.set_ylabel('Counts')"
   ]
  },
  {
   "cell_type": "code",
   "execution_count": null,
   "metadata": {
    "scrolled": false
   },
   "outputs": [],
   "source": [
    "# %matplotlib notebook\n",
    "# plot_waveforms_utc(raw_stream)"
   ]
  },
  {
   "cell_type": "markdown",
   "metadata": {},
   "source": [
    "### Array details\n",
    "Examine the array layout and response and the instrument sensitivity of IMS array IS53 given that the signals of interest are microbaroms which have a typical frequency of $0.2 \\pm0.1$Hz."
   ]
  },
  {
   "cell_type": "code",
   "execution_count": null,
   "metadata": {},
   "outputs": [],
   "source": [
    "from arraylib import Array"
   ]
  },
  {
   "cell_type": "code",
   "execution_count": null,
   "metadata": {},
   "outputs": [],
   "source": [
    "array = Array(inv)"
   ]
  },
  {
   "cell_type": "code",
   "execution_count": null,
   "metadata": {},
   "outputs": [],
   "source": [
    "# %matplotlib notebook\n",
    "fig = array.plot_response(0.01, station='I53H1', show=False)\n",
    "ax1, ax2 = fig.axes\n",
    "ax1.axvspan(0.1, 5, color='r', alpha=0.1)\n",
    "ax2.axvspan(0.1, 5, color='r', alpha=0.1)\n",
    "plt.tight_layout()\n",
    "print(inv.get_response('IM.I53H1..BDF', t0))"
   ]
  },
  {
   "cell_type": "code",
   "execution_count": null,
   "metadata": {},
   "outputs": [],
   "source": [
    "# %matplotlib notebook\n",
    "\n",
    "# set the plot\n",
    "fwidth = 7\n",
    "fheight = 4.5\n",
    "fig = plt.figure(figsize=(fwidth, fheight))\n",
    "wspace = 0.12\n",
    "hspace = 0.05\n",
    "left = 0.1\n",
    "right = 0.15\n",
    "bottom = 0.15\n",
    "ncols = 2\n",
    "width = (1 - left - right - wspace) / ncols\n",
    "aspect = fwidth / fheight\n",
    "height = width * aspect\n",
    "ax1 = fig.add_axes((left, bottom,\n",
    "                    width, height))\n",
    "ax2 = fig.add_axes((left + width + wspace, bottom,\n",
    "                    width, height))\n",
    "ax02 = fig.add_axes((left + width + wspace, bottom + height + hspace,\n",
    "                     width, 0.2), sharex=ax2)\n",
    "plt.setp(ax02.get_xticklabels(), visible=False)\n",
    "\n",
    "# array configuration\n",
    "array.plot_array_geometry(ax1, c='r')\n",
    "\n",
    "# array response\n",
    "cbx = fig.add_axes((left + 2 * width + wspace + 0.015, bottom,\n",
    "                    0.015, height))\n",
    "\n",
    "# >>> change frequencies here:\n",
    "resp = array.plot_array_response(f_min=0.1, f_max=.3, f_steps=10,\n",
    "                                 ax=ax2, ax_top=ax02, cb_ax=cbx)"
   ]
  },
  {
   "cell_type": "markdown",
   "metadata": {},
   "source": [
    "### Preprocessing\n",
    "The microbarom frequency band of interest is within the flat band of the instrument with a near-zero-phase. Alternative to day 2 we will not remove the instrument response but only correct for the sensitivity. "
   ]
  },
  {
   "cell_type": "code",
   "execution_count": null,
   "metadata": {
    "scrolled": true
   },
   "outputs": [],
   "source": [
    "stream = raw_stream.copy()\n",
    "stream.detrend('demean')\n",
    "stream.filter('bandpass', freqmin=0.1, freqmax=1.0, corners=2, zerophase=True)\n",
    "stream.remove_sensitivity(inv)\n",
    "\n",
    "print(stream)"
   ]
  },
  {
   "cell_type": "code",
   "execution_count": null,
   "metadata": {
    "scrolled": false
   },
   "outputs": [],
   "source": [
    "stream.plot(size=(600, 600))"
   ]
  },
  {
   "cell_type": "markdown",
   "metadata": {},
   "source": [
    "### Beamforming"
   ]
  },
  {
   "cell_type": "code",
   "execution_count": null,
   "metadata": {
    "scrolled": true
   },
   "outputs": [],
   "source": [
    "from grid import Grid\n",
    "from timefisher import beamform, fratio2snr, plot_results, plot_utc_time"
   ]
  },
  {
   "cell_type": "code",
   "execution_count": null,
   "metadata": {
    "scrolled": false
   },
   "outputs": [],
   "source": [
    "# %matplotlib notebook\n",
    "grid = Grid(app_vel_params=(280, 420, 10), theta_params=(0, 360, 2))\n",
    "grid.plot_pxpy()"
   ]
  },
  {
   "cell_type": "code",
   "execution_count": null,
   "metadata": {},
   "outputs": [],
   "source": [
    "# trim to the same start and end time\n",
    "stream.trim(t0, t1, pad=True, fill_value=0)\n",
    "\n",
    "# assign the x, y attributes and validate smapling rate and number of samples\n",
    "samp_rate = []\n",
    "npts = []\n",
    "for tr in stream:\n",
    "    element = array.select(station=tr.stats.station)[0][0]\n",
    "    tr.x, tr.y = element.x, element.y\n",
    "    samp_rate.append(tr.stats.sampling_rate)\n",
    "    npts.append(tr.stats.npts)\n",
    "    \n",
    "if np.any(np.array(samp_rate) - tr.stats.sampling_rate):\n",
    "    raise RuntimeError(\"Sampling rate does not match. {}\".format(samp_rate))\n",
    "if np.any(np.array(npts) - tr.stats.npts):\n",
    "    raise RuntimeError(\"Number of samples does not match. {}\".format(npts))"
   ]
  },
  {
   "cell_type": "markdown",
   "metadata": {},
   "source": [
    "Process the stream with 20s windows and no overlap."
   ]
  },
  {
   "cell_type": "code",
   "execution_count": null,
   "metadata": {
    "scrolled": false
   },
   "outputs": [],
   "source": [
    "bestbeam, times, fratio_max, baz, app_vel, fgrid = beamform(\n",
    "    stream, grid, wlen=20, overlap=0., version='numba')\n",
    "\n",
    "snr = fratio2snr(fratio_max, stream.count())"
   ]
  },
  {
   "cell_type": "markdown",
   "metadata": {},
   "source": [
    "Plot with a predefined SNR and apparent velocity range."
   ]
  },
  {
   "cell_type": "code",
   "execution_count": null,
   "metadata": {},
   "outputs": [],
   "source": [
    "# %matplotlib notebook\n",
    "\n",
    "fig, ax, cb1, cb2 = plot_results(\n",
    "    bestbeam, times, fratio_max, baz, app_vel, snr, \n",
    "    vmin=.8, vmax=2., utctime=False\n",
    ")\n",
    "ax[0].set_ylim(0.1, 1.)\n",
    "ax[3].set_ylim(280, 370)"
   ]
  },
  {
   "cell_type": "markdown",
   "metadata": {},
   "source": [
    "Repeat the beamforming step with the same slowness grid but now with 120s long windows with 60% overlap. What happens?"
   ]
  },
  {
   "cell_type": "code",
   "execution_count": null,
   "metadata": {},
   "outputs": [],
   "source": [
    "bestbeam, times, fratio_max, baz, app_vel, fgrid = beamform(\n",
    "    stream, grid, wlen=120, overlap=.60, version='numba' )\n",
    "\n",
    "snr = fratio2snr(fratio_max, stream.count())"
   ]
  },
  {
   "cell_type": "markdown",
   "metadata": {},
   "source": [
    "Plot with the same SNR and apparent velocity range."
   ]
  },
  {
   "cell_type": "code",
   "execution_count": null,
   "metadata": {},
   "outputs": [],
   "source": [
    "# %matplotlib notebook\n",
    "\n",
    "fig, ax, cb1, cb2 = plot_results(\n",
    "    bestbeam, times, fratio_max, baz, app_vel, snr, \n",
    "    vmin=.8, vmax=2., utctime=False\n",
    ")\n",
    "ax[0].set_ylim(0.1, 1.)\n",
    "ax[3].set_ylim(280, 370)\n",
    "\n",
    "#plot_utc_time(bestbeam.stats.starttime,ax[4],'%H:%M') # add another axis with UTC datetime"
   ]
  },
  {
   "cell_type": "markdown",
   "metadata": {},
   "source": [
    "What is happening? You can increase the temporal resolution of the long-window run by gradually increasing the overlap from none to 0.80 (80%)."
   ]
  },
  {
   "cell_type": "markdown",
   "metadata": {},
   "source": [
    "### Interpretation"
   ]
  },
  {
   "cell_type": "markdown",
   "metadata": {},
   "source": [
    "Where do the microbaroms originate from? You can use the following line to obtain the center coordinate of the array."
   ]
  },
  {
   "cell_type": "code",
   "execution_count": null,
   "metadata": {},
   "outputs": [],
   "source": [
    "print(array.center)"
   ]
  },
  {
   "cell_type": "markdown",
   "metadata": {},
   "source": [
    "Have a look in, for example, Google Earth for the dominant back-azimuth angle."
   ]
  },
  {
   "cell_type": "markdown",
   "metadata": {},
   "source": [
    "## Example : microbarom signals during the Italy earthquake\n",
    "Before we have a look at a longer time series, go back to the Italy earthquake case of day 2 and process the data in the microbarom frequency band (0.1 to 0.3 Hz).\n",
    "Can you retrieve the ambient signal during the earthquake?"
   ]
  },
  {
   "cell_type": "markdown",
   "metadata": {},
   "source": [
    "## Case : midwinter microbarom observations in Germany\n",
    "We will now process a longer time period and extract the continuous signal which will use to probe the medium.\n",
    "\n",
    "### Retrieve the inventory of IMS array IS26"
   ]
  },
  {
   "cell_type": "code",
   "execution_count": null,
   "metadata": {},
   "outputs": [],
   "source": [
    "# Get the data and array metadata (inventory)\n",
    "\n",
    "t0  = UTCDateTime(\"2018-01-16T12:00:00.Z\");\n",
    "t1  = UTCDateTime(\"2018-01-19T12:00:00.Z\");\n",
    "\n",
    "# get StationXML\n",
    "client = fdsnClient('BGR')\n",
    "sta = 'I26*'\n",
    "net = '*'\n",
    "cha = 'BDF'\n",
    "\n",
    "inv = client.get_stations(\n",
    "    network=net,\n",
    "    station=sta,\n",
    "    channel=cha,\n",
    "    starttime=t0,\n",
    "    endtime=t1,\n",
    "    level='response',\n",
    "    includerestricted=False,\n",
    ")\n",
    "print(inv)"
   ]
  },
  {
   "cell_type": "markdown",
   "metadata": {},
   "source": [
    "Get the waveforms of **only the first five** BDF elements of infrasound array I26. You may update the inventory request above if needed.\n",
    "\n",
    "First make a list (comma separated string) of the selected I26H1-5 station names"
   ]
  },
  {
   "cell_type": "code",
   "execution_count": null,
   "metadata": {
    "scrolled": true
   },
   "outputs": [],
   "source": [
    "# sel = 'I26H1,I26H2,I26H3,I26H4,I26H5'\n",
    "sel = ','.join(list(map(lambda x: \"I26H\" + str(x), range(1,6))))\n",
    "print(sel)"
   ]
  },
  {
   "cell_type": "markdown",
   "metadata": {},
   "source": [
    "### Plot the array layout of elements I26H1-5\n",
    "Extend the inventory to an array object."
   ]
  },
  {
   "cell_type": "code",
   "execution_count": null,
   "metadata": {},
   "outputs": [],
   "source": [
    "array = Array(inv)"
   ]
  },
  {
   "cell_type": "markdown",
   "metadata": {},
   "source": [
    "Remove the elements we won't use. You may need to run the filter twice if not all unused elements are removed. "
   ]
  },
  {
   "cell_type": "code",
   "execution_count": null,
   "metadata": {},
   "outputs": [],
   "source": [
    "while len(array.elements)>len(sel.split(',')):\n",
    "    for element in array.elements:\n",
    "        if not element.code in sel.split(','):\n",
    "            array.elements.remove(element)\n",
    "print(array)"
   ]
  },
  {
   "cell_type": "markdown",
   "metadata": {},
   "source": [
    "Plot the response of the array subset using only elements I26H1-5."
   ]
  },
  {
   "cell_type": "code",
   "execution_count": null,
   "metadata": {},
   "outputs": [],
   "source": [
    "# %matplotlib notebook\n",
    "\n",
    "# set the plot\n",
    "fwidth = 7\n",
    "fheight = 4.5\n",
    "fig = plt.figure(figsize=(fwidth, fheight))\n",
    "wspace = 0.12\n",
    "hspace = 0.05\n",
    "left = 0.1\n",
    "right = 0.15\n",
    "bottom = 0.15\n",
    "ncols = 2\n",
    "width = (1 - left - right - wspace) / ncols\n",
    "aspect = fwidth / fheight\n",
    "height = width * aspect\n",
    "ax1 = fig.add_axes((left, bottom,\n",
    "                    width, height))\n",
    "ax2 = fig.add_axes((left + width + wspace, bottom,\n",
    "                    width, height))\n",
    "ax02 = fig.add_axes((left + width + wspace, bottom + height + hspace,\n",
    "                     width, 0.2), sharex=ax2)\n",
    "plt.setp(ax02.get_xticklabels(), visible=False)\n",
    "\n",
    "# array configuration\n",
    "array.plot_array_geometry(ax1, c='r')\n",
    "\n",
    "# array response\n",
    "cbx = fig.add_axes((left + 2 * width + wspace + 0.015, bottom,\n",
    "                    0.015, height))\n",
    "\n",
    "# >>> change frequencies here:\n",
    "resp = array.plot_array_response(f_min=0.1, f_max=.3, f_steps=10,\n",
    "                                 ax=ax2, ax_top=ax02, cb_ax=cbx)"
   ]
  },
  {
   "cell_type": "markdown",
   "metadata": {},
   "source": [
    "### Retrieve the array subset waveforms (3 days!)\n",
    "Downloading can take some time... Make sure you only include elements I26H1-5!"
   ]
  },
  {
   "cell_type": "code",
   "execution_count": null,
   "metadata": {
    "scrolled": false
   },
   "outputs": [],
   "source": [
    "raw_stream = client.get_waveforms(net, sel, '*', 'BDF', t0, t1)\n",
    "print(raw_stream)"
   ]
  },
  {
   "cell_type": "markdown",
   "metadata": {},
   "source": [
    "Plot the raw stream using only elements I26H1-5."
   ]
  },
  {
   "cell_type": "code",
   "execution_count": null,
   "metadata": {
    "scrolled": false
   },
   "outputs": [],
   "source": [
    "raw_stream.plot(size=(600, 600))"
   ]
  },
  {
   "cell_type": "markdown",
   "metadata": {},
   "source": [
    "Duplicate the raw stream (to avoid re-downloading when altering the filter settings), remove the sensitivity and zero-phase filter filter within the microbarom range."
   ]
  },
  {
   "cell_type": "code",
   "execution_count": null,
   "metadata": {
    "scrolled": true
   },
   "outputs": [],
   "source": [
    "stream = raw_stream.copy()\n",
    "stream.detrend('demean')\n",
    "stream.filter('bandpass', freqmin=0.1, freqmax=2., corners=2, zerophase=True)\n",
    "stream.remove_sensitivity(inv)\n",
    "\n",
    "print(stream)"
   ]
  },
  {
   "cell_type": "code",
   "execution_count": null,
   "metadata": {
    "scrolled": false
   },
   "outputs": [],
   "source": [
    "stream.plot(size=(600, 600))"
   ]
  },
  {
   "cell_type": "markdown",
   "metadata": {},
   "source": [
    "### Optimized slowness grid\n",
    "To process the three days of data in an acceptable time (for the purpose of this course) we need an optimal slowness grid!\n",
    "\n",
    "Design a coarse but optimized slowness grid (approx. 600 slownesses) towards the West (for example, from South to North) including only acoustic velocities up to 400 m/s. _Hint:_ the microbaroms are expected from the northern part of the Atlantic Ocean."
   ]
  },
  {
   "cell_type": "code",
   "execution_count": null,
   "metadata": {
    "scrolled": false
   },
   "outputs": [],
   "source": [
    "# %matplotlib notebook\n",
    "grid = Grid(app_vel_params=(280, 480, 15), theta_params=(235, 355, 3))\n",
    "grid.plot_pxpy()"
   ]
  },
  {
   "cell_type": "markdown",
   "metadata": {},
   "source": [
    "Trim the stream and check if the array layout and waveform data is consistent."
   ]
  },
  {
   "cell_type": "code",
   "execution_count": null,
   "metadata": {},
   "outputs": [],
   "source": [
    "# trim to the same start and end time\n",
    "stream.trim(t0, t1, pad=True, fill_value=0)\n",
    "\n",
    "# assign the x, y attributes and validate smapling rate and number of samples\n",
    "samp_rate = []\n",
    "npts = []\n",
    "for tr in stream:\n",
    "    element = array.select(station=tr.stats.station)[0][0]\n",
    "    tr.x, tr.y = element.x, element.y\n",
    "    samp_rate.append(tr.stats.sampling_rate)\n",
    "    npts.append(tr.stats.npts)\n",
    "    \n",
    "if np.any(np.array(samp_rate) - tr.stats.sampling_rate):\n",
    "    raise RuntimeError(\"Sampling rate does not match. {}\".format(samp_rate))\n",
    "if np.any(np.array(npts) - tr.stats.npts):\n",
    "    raise RuntimeError(\"Number of samples does not match. {}\".format(npts))"
   ]
  },
  {
   "cell_type": "markdown",
   "metadata": {},
   "source": [
    "Beamform the three days with **120s** windows and **no overlap**."
   ]
  },
  {
   "cell_type": "code",
   "execution_count": null,
   "metadata": {
    "scrolled": false
   },
   "outputs": [],
   "source": [
    "bestbeam, times, fratio_max, baz, app_vel, fgrid = beamform(\n",
    "    stream, grid, wlen=120, overlap=0., version='numba' )\n",
    "\n",
    "snr = fratio2snr(fratio_max, stream.count())"
   ]
  },
  {
   "cell_type": "markdown",
   "metadata": {},
   "source": [
    "Plot the results. You may need to refine the y-axis ranges and colour scales."
   ]
  },
  {
   "cell_type": "code",
   "execution_count": null,
   "metadata": {
    "scrolled": false
   },
   "outputs": [],
   "source": [
    "# %matplotlib notebook\n",
    "fig, ax, cb1, cb2 = plot_results(\n",
    "    bestbeam, times, fratio_max, baz, app_vel, snr, \n",
    "    vmin=.6, vmax=1.5,\n",
    "    utctime=True,\n",
    ")\n",
    "ax[0].images[0].set_clim(0.005, 0.05)\n",
    "ax[0].set_ylim(0.1, 1.)\n",
    "ax[2].set_ylim(235, 355)\n",
    "\n",
    "# plot_utc_time(bestbeam.stats.starttime,ax[4],'%d %b\\n%H:%M')"
   ]
  },
  {
   "cell_type": "markdown",
   "metadata": {},
   "source": [
    "### What is going on with the microbaroms?\n",
    "\n",
    "Do the microbaroms originate from the northern part of the Atlantic Ocean? Something is going on with the retrieved signal. In order the find out, we need some more data! \n",
    "\n",
    "Retrieve the inventory and stream of the weather station attached to one of the array elements."
   ]
  },
  {
   "cell_type": "code",
   "execution_count": null,
   "metadata": {},
   "outputs": [],
   "source": [
    "ws_inv = client.get_stations(\n",
    "    network=net,\n",
    "    station='I26*',\n",
    "    channel='L*',\n",
    "    starttime=t0,\n",
    "    endtime=t1,\n",
    "    level='response',\n",
    "    includerestricted=False,\n",
    ")\n",
    "print(ws_inv)"
   ]
  },
  {
   "cell_type": "markdown",
   "metadata": {},
   "source": [
    "Remove the sensitivity and apply a low-pass filter with a corner frequency of 10 minutes. To avoid undesired filter artefacts, add 15 minutes to both sides when retrieving the data and trim these after filtering.\n",
    "Do not detrend the signal."
   ]
  },
  {
   "cell_type": "code",
   "execution_count": null,
   "metadata": {
    "scrolled": false
   },
   "outputs": [],
   "source": [
    "ws_stream = client.get_waveforms(net, 'I26*', '*', 'L*', t0-900, t1+900)\n",
    "ws_stream.remove_sensitivity(ws_inv)\n",
    "ws_stream.filter('lowpass', freq=1./600, corners=2, zerophase=True )\n",
    "ws_stream.trim(t0, t1, pad=True, fill_value=0)\n",
    "print(ws_stream)"
   ]
  },
  {
   "cell_type": "markdown",
   "metadata": {},
   "source": [
    "Separate the streams and plot the local wind speed trace `LWS`"
   ]
  },
  {
   "cell_type": "code",
   "execution_count": null,
   "metadata": {
    "scrolled": true
   },
   "outputs": [],
   "source": [
    "lko, lwd, lws = ws_stream\n",
    "\n",
    "lws.plot()\n",
    "# lwd.plot()\n",
    "# lko.plot()"
   ]
  },
  {
   "cell_type": "markdown",
   "metadata": {},
   "source": [
    "What is the relation with the microbarom signal. Any idea why?"
   ]
  },
  {
   "cell_type": "markdown",
   "metadata": {},
   "source": [
    "### Zoom on the nightly microbaroms"
   ]
  },
  {
   "cell_type": "code",
   "execution_count": null,
   "metadata": {},
   "outputs": [],
   "source": [
    "# %matplotlib notebook\n",
    "grid = Grid(app_vel_params=(280, 450, 5), theta_params=(235, 355, 2))\n",
    "grid.plot_pxpy()"
   ]
  },
  {
   "cell_type": "code",
   "execution_count": null,
   "metadata": {},
   "outputs": [],
   "source": [
    "# zoom in\n",
    "t0_z = UTCDateTime(\"2018-01-18T21:00:00.Z\");\n",
    "t1_z = UTCDateTime(\"2018-01-19T09:00:00.Z\");\n",
    "\n",
    "# trim to the same start and end time\n",
    "stream.trim(t0_z, t1_z, pad=True, fill_value=0)\n",
    "print(stream)"
   ]
  },
  {
   "cell_type": "code",
   "execution_count": null,
   "metadata": {},
   "outputs": [],
   "source": [
    "bestbeam, times, fratio_max, baz, app_vel, fgrid = beamform(\n",
    "    stream, grid, wlen=120, overlap=0.5, version='numba' )\n",
    "\n",
    "snr = fratio2snr(fratio_max, stream.count())"
   ]
  },
  {
   "cell_type": "code",
   "execution_count": null,
   "metadata": {
    "scrolled": false
   },
   "outputs": [],
   "source": [
    "# %matplotlib notebook\n",
    "fig, ax, cb1, cb2 = plot_results(\n",
    "    bestbeam, times, fratio_max, baz, app_vel, snr, \n",
    "    vmin=.6, vmax=1.5,\n",
    "    utctime=True,\n",
    ")\n",
    "ax[0].images[0].set_clim(0.005, 0.05)\n",
    "ax[0].set_ylim(0.1, 1.)\n",
    "ax[2].set_ylim(235, 355)\n",
    "ax[3].set_ylim(320, 450)"
   ]
  },
  {
   "cell_type": "markdown",
   "metadata": {},
   "source": [
    "## Case : seasonal microbarom observations\n",
    "### Summer observations\n",
    "We use the same subset of elements, fdsn client, etc. Only change the period and download the summer waveforms."
   ]
  },
  {
   "cell_type": "code",
   "execution_count": null,
   "metadata": {},
   "outputs": [],
   "source": [
    "# Get the data and array metadata (inventory)\n",
    "t0  = UTCDateTime(\"2019-07-01T12:00:00.Z\");\n",
    "t1  = UTCDateTime(\"2019-07-04T12:00:00.Z\");\n",
    "\n",
    "raw_stream = client.get_waveforms(net, sta, '*', 'BDF', t0, t1)\n",
    "print(raw_stream)"
   ]
  },
  {
   "cell_type": "markdown",
   "metadata": {},
   "source": [
    "Plot the raw stream."
   ]
  },
  {
   "cell_type": "code",
   "execution_count": null,
   "metadata": {
    "scrolled": false
   },
   "outputs": [],
   "source": [
    "raw_stream.plot(size=(600, 600))"
   ]
  },
  {
   "cell_type": "markdown",
   "metadata": {},
   "source": [
    "Duplicate the raw stream, detrend, zero-phase filter within the microbarom range and remove the sensitivity."
   ]
  },
  {
   "cell_type": "code",
   "execution_count": null,
   "metadata": {
    "scrolled": true
   },
   "outputs": [],
   "source": [
    "stream = raw_stream.copy()\n",
    "stream.detrend('demean')\n",
    "stream.filter('bandpass', freqmin=0.1, freqmax=1.0, corners=2, zerophase=True)\n",
    "stream.remove_sensitivity(inv)\n",
    "\n",
    "print(stream)"
   ]
  },
  {
   "cell_type": "code",
   "execution_count": null,
   "metadata": {
    "scrolled": false
   },
   "outputs": [],
   "source": [
    "stream.plot(size=(600, 600))"
   ]
  },
  {
   "cell_type": "markdown",
   "metadata": {},
   "source": [
    "####  Microbarom optimized slowness grid\n",
    "Design a new slowness grid of max 1000 slowness vectors. We expect acoustic slownesses up to 450 m/s. "
   ]
  },
  {
   "cell_type": "code",
   "execution_count": null,
   "metadata": {
    "scrolled": false
   },
   "outputs": [],
   "source": [
    "# %matplotlib notebook\n",
    "grid = Grid(app_vel_params=(285, 450, 15), theta_params=(0, 360, 5))\n",
    "grid.plot_pxpy()"
   ]
  },
  {
   "cell_type": "markdown",
   "metadata": {},
   "source": [
    "Trim the stream, add the array information and check if the array layout and waveform data is consistent."
   ]
  },
  {
   "cell_type": "code",
   "execution_count": null,
   "metadata": {},
   "outputs": [],
   "source": [
    "# trim to the same start and end time\n",
    "stream.trim(t0, t1, pad=True, fill_value=0)\n",
    "\n",
    "# assign the x, y attributes and validate smapling rate and number of samples\n",
    "samp_rate = []\n",
    "npts = []\n",
    "for tr in stream:\n",
    "    element = array.select(station=tr.stats.station)[0][0]\n",
    "    tr.x, tr.y = element.x, element.y\n",
    "    samp_rate.append(tr.stats.sampling_rate)\n",
    "    npts.append(tr.stats.npts)\n",
    "    \n",
    "if np.any(np.array(samp_rate) - tr.stats.sampling_rate):\n",
    "    raise RuntimeError(\"Sampling rate does not match. {}\".format(samp_rate))\n",
    "if np.any(np.array(npts) - tr.stats.npts):\n",
    "    raise RuntimeError(\"Number of samples does not match. {}\".format(npts))"
   ]
  },
  {
   "cell_type": "markdown",
   "metadata": {},
   "source": [
    "Beamform with **100s** windows and **no overlap**."
   ]
  },
  {
   "cell_type": "code",
   "execution_count": null,
   "metadata": {
    "scrolled": false
   },
   "outputs": [],
   "source": [
    "bestbeam, times, fratio_max, baz, app_vel, fgrid = beamform(\n",
    "    stream, grid, wlen=100, overlap=0., version='numba' )\n",
    "\n",
    "snr = fratio2snr(fratio_max, stream.count())"
   ]
  },
  {
   "cell_type": "markdown",
   "metadata": {},
   "source": [
    "Plot the results. You may need to refine the y-axis ranges and colour scales."
   ]
  },
  {
   "cell_type": "code",
   "execution_count": null,
   "metadata": {
    "scrolled": false
   },
   "outputs": [],
   "source": [
    "%matplotlib notebook\n",
    "fig, ax, cb1, cb2 = plot_results(\n",
    "    bestbeam, times, fratio_max, baz, app_vel, snr, \n",
    "    vmin=.6, vmax=1.5,\n",
    "    utctime=False,\n",
    ")\n",
    "ax[0].images[0].set_clim(0.001, 0.01)\n",
    "ax[0].set_ylim(0.1, 1.)\n",
    "\n",
    "plot_utc_time(bestbeam.stats.starttime,ax[4],'%d %b\\n%H:%M') # add another axis with UTC datetime"
   ]
  },
  {
   "cell_type": "markdown",
   "metadata": {},
   "source": [
    "Check the direction in Google Earth"
   ]
  },
  {
   "cell_type": "code",
   "execution_count": null,
   "metadata": {},
   "outputs": [],
   "source": [
    "print(array.center)"
   ]
  },
  {
   "cell_type": "markdown",
   "metadata": {},
   "source": [
    "### Interpretation\n",
    "What is going on compared to the winter observations?"
   ]
  },
  {
   "cell_type": "markdown",
   "metadata": {},
   "source": [
    "## Extra material \n",
    "\n",
    "* Uncertainties associated with parameter estimation in atmospheric infrasound arrays: [Szuberla & Olson (2004)](https://doi.org/10.1121/1.1635407)\n",
    "* Effect of interarray elevation differences on infrasound beamforming: [Edwards & Green (2012)](https://doi.org/10.1111/j.1365-246X.2012.05465.x)\n",
    "* Infrasonic remote sensing using arrays, e.g., [Smets et al. (2016)](https://doi.org/10.1002/2015JD024251)\n",
    "* Teleseismic slowness-azimuth station corrections for the International Monitoring System Seismic Network:  [Bondár et al. (1999)](https://pubs.geoscienceworld.org/ssa/bssa/article/89/4/989/102851/teleseismic-slowness-azimuth-station-corrections)\n",
    "* Handling multiple sources and improving the response for narrow banded frequencies: deconvolution enhanced direction of arrival estimation by use of CLEAN"
   ]
  }
 ],
 "metadata": {
  "kernelspec": {
   "display_name": "Python 3",
   "language": "python",
   "name": "python3"
  },
  "language_info": {
   "codemirror_mode": {
    "name": "ipython",
    "version": 3
   },
   "file_extension": ".py",
   "mimetype": "text/x-python",
   "name": "python",
   "nbconvert_exporter": "python",
   "pygments_lexer": "ipython3",
   "version": "3.7.1"
  },
  "toc": {
   "base_numbering": 1,
   "nav_menu": {},
   "number_sections": true,
   "sideBar": true,
   "skip_h1_title": false,
   "title_cell": "Table of Contents",
   "title_sidebar": "Contents",
   "toc_cell": false,
   "toc_position": {},
   "toc_section_display": true,
   "toc_window_display": false
  },
  "varInspector": {
   "cols": {
    "lenName": 16,
    "lenType": 16,
    "lenVar": 40
   },
   "kernels_config": {
    "python": {
     "delete_cmd_postfix": "",
     "delete_cmd_prefix": "del ",
     "library": "var_list.py",
     "varRefreshCmd": "print(var_dic_list())"
    },
    "r": {
     "delete_cmd_postfix": ") ",
     "delete_cmd_prefix": "rm(",
     "library": "var_list.r",
     "varRefreshCmd": "cat(var_dic_list()) "
    }
   },
   "types_to_exclude": [
    "module",
    "function",
    "builtin_function_or_method",
    "instance",
    "_Feature"
   ],
   "window_display": false
  }
 },
 "nbformat": 4,
 "nbformat_minor": 2
}
