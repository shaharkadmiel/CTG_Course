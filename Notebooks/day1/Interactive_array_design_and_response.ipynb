{
 "cells": [
  {
   "cell_type": "code",
   "execution_count": null,
   "metadata": {},
   "outputs": [],
   "source": [
    "%matplotlib notebook\n",
    "\n",
    "import numpy as np\n",
    "import matplotlib.pyplot as plt"
   ]
  },
  {
   "cell_type": "code",
   "execution_count": null,
   "metadata": {
    "scrolled": false
   },
   "outputs": [],
   "source": [
    "from ipywidgets import interactive, fixed, Layout, HBox, VBox\n",
    "import ipywidgets as widgets\n",
    "\n",
    "from array_response_widget import Array\n",
    "\n",
    "out = widgets.Output()\n",
    "\n",
    "array = Array()\n",
    "cmaps = plt.colormaps()\n",
    "w = interactive(\n",
    "    array.__update_widget__,\n",
    "    \n",
    "    c_app=widgets.IntSlider(\n",
    "        value=280, min=200, max=3000, step=100, continuous_update=False,\n",
    "        description='C min, m/s'\n",
    "    ),\n",
    "    c_steps=widgets.IntSlider(\n",
    "        value=50, min=10, max=150, step=10, continuous_update=False,\n",
    "        description='steps', layout=Layout(width='250px')\n",
    "    ),\n",
    "    \n",
    "    fminmax=widgets.FloatRangeSlider(\n",
    "        value=[0.2, 0.2], min=0.05, max=5, step=0.01,\n",
    "        continuous_update=False, description='Frequency range, Hz',\n",
    "        style={'description_width': 'initial'}\n",
    "    ),\n",
    "    f_steps=widgets.IntSlider(\n",
    "        value=1, min=1, max=50, step=1, continuous_update=False,\n",
    "        description='steps', layout=Layout(width='250px')\n",
    "    ),\n",
    "    \n",
    "    log=widgets.Checkbox(\n",
    "        value=False, description='Log scale'),\n",
    "    cmap=widgets.Dropdown(\n",
    "        value='inferno_r', options=cmaps, description='cmap',\n",
    "                              layout=Layout(width='180px')),\n",
    ")\n",
    "\n",
    "center_b = widgets.Button(\n",
    "    description='Center array', button_style='info', layout=Layout(width='100px')\n",
    ")\n",
    "center_b.on_click(array.__center__)\n",
    "\n",
    "reset_b = widgets.Button(\n",
    "    description='Reset', button_style='danger', layout=Layout(width='100px')\n",
    ")\n",
    "reset_b.on_click(array.__reset__)\n",
    "\n",
    "controls = VBox([out,\n",
    "                 HBox([center_b]),\n",
    "                 HBox(w.children[:2]),\n",
    "                 HBox(w.children[2:4]),\n",
    "                 HBox(w.children[4:]),\n",
    "                 HBox([reset_b])])\n",
    "controls"
   ]
  },
  {
   "cell_type": "code",
   "execution_count": null,
   "metadata": {},
   "outputs": [],
   "source": [
    "print(f'x: {array.x}\\n y: {array.y}')"
   ]
  },
  {
   "cell_type": "code",
   "execution_count": null,
   "metadata": {},
   "outputs": [],
   "source": []
  }
 ],
 "metadata": {
  "kernelspec": {
   "display_name": "Python 3",
   "language": "python",
   "name": "python3"
  },
  "language_info": {
   "codemirror_mode": {
    "name": "ipython",
    "version": 3
   },
   "file_extension": ".py",
   "mimetype": "text/x-python",
   "name": "python",
   "nbconvert_exporter": "python",
   "pygments_lexer": "ipython3",
   "version": "3.7.1"
  },
  "toc": {
   "base_numbering": 1,
   "nav_menu": {},
   "number_sections": true,
   "sideBar": true,
   "skip_h1_title": false,
   "title_cell": "Table of Contents",
   "title_sidebar": "Contents",
   "toc_cell": false,
   "toc_position": {},
   "toc_section_display": "block",
   "toc_window_display": false
  },
  "varInspector": {
   "cols": {
    "lenName": 16,
    "lenType": 16,
    "lenVar": 40
   },
   "kernels_config": {
    "python": {
     "delete_cmd_postfix": "",
     "delete_cmd_prefix": "del ",
     "library": "var_list.py",
     "varRefreshCmd": "print(var_dic_list())"
    },
    "r": {
     "delete_cmd_postfix": ") ",
     "delete_cmd_prefix": "rm(",
     "library": "var_list.r",
     "varRefreshCmd": "cat(var_dic_list()) "
    }
   },
   "types_to_exclude": [
    "module",
    "function",
    "builtin_function_or_method",
    "instance",
    "_Feature"
   ],
   "window_display": false
  }
 },
 "nbformat": 4,
 "nbformat_minor": 2
}
