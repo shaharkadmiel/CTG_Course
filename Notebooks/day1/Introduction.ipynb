{
 "cells": [
  {
   "cell_type": "markdown",
   "metadata": {},
   "source": [
    "<div\n",
    "    style='background-image: url(\"images/microseisms.jpg\"); padding: 0px;\n",
    "    background-size: cover; border-radius: 10px; height: 250px;\n",
    "    background-position: 50% 50%'>\n",
    "    <div\n",
    "        style=\"float: left; margin: 20px; padding: 10px;\n",
    "        background: rgba(255 , 255 , 255 , 0.8); width: 85%; height: 150px;\n",
    "        border-radius: 10px\">\n",
    "        <div\n",
    "            style=\"position: relative; top: 50%;\n",
    "            transform: translatey(-50%)\">\n",
    "            <div\n",
    "                style=\"font-size: xx-large; font-weight: 900;\n",
    "                color: rgba(0 , 0 , 0 , 0.9);\n",
    "                line-height: 100%\">\n",
    "                Introduction to seismo-acoustic waves in the Earth’s spheres\n",
    "            </div>\n",
    "            <div\n",
    "                style=\"font-size: large; padding-top: 20px;\n",
    "                color: rgba(0 , 0 , 0 , 0.7)\">\n",
    "                <p>CTG Course by <em>Läslo Evers, Shahar Shani-Kadmiel,\n",
    "    and Pieter Smets</em>, CEG, TU Delft\n",
    "            </div>\n",
    "        </div>\n",
    "    </div>\n",
    "</div>"
   ]
  },
  {
   "cell_type": "markdown",
   "metadata": {},
   "source": [
    "# Introduction\n",
    "\n",
    "## The Comprehensive nuclear-Test-Ban Treaty\n",
    "\n",
    "The Comprehensive Nuclear-Test-Ban Treaty (CTBT) bans nuclear explosions by everyone, everywhere: on the Earth's surface, in the atmosphere, underwater and underground.\n",
    "\n",
    "![nuke](images/nuke.png)\n",
    "***Monitoring of (nuclear) explosions in all three mediums***\n"
   ]
  },
  {
   "cell_type": "code",
   "execution_count": null,
   "metadata": {},
   "outputs": [],
   "source": [
    "%%html\n",
    "<iframe width=\"560\" height=\"315\" src=\"https://www.youtube.com/embed/w5jgEXgtgEI\" frameborder=\"0\" allowfullscreen></iframe>"
   ]
  },
  {
   "cell_type": "markdown",
   "metadata": {},
   "source": [
    "## The International Monitoring System (IMS)\n",
    "\n",
    "The verification regime of the CTBT is designed to detect any nuclear explosion conducted on Earth - underground, underwater or in the atmosphere.\n",
    "\n",
    "![map](images/IMS_map.png)\n",
    "\n",
    "Arrays may vary in shape and size depending on their purpose. For instance, seismic arrays if the IMS:\n",
    "\n",
    "![ims seismic arrays](images/IMS_seismic_arrays.png)\n",
    "\n",
    "and infrasound arrays of the IMS:\n",
    "\n",
    "![ims infrasound arrays](images/IMS_infrasound_arrays.png)\n",
    "\n"
   ]
  },
  {
   "cell_type": "markdown",
   "metadata": {},
   "source": [
    "# Array design and processing theory\n",
    "\n",
    "**Why arrays?**\n",
    "\n",
    "* Improve signal-to-noise ratio (SNR)\n",
    "* Retrieve wavefront parameters such as incoming direction and propagation velocity:\n",
    "\n",
    "## Background theory: plane wave beamforming\n",
    "\n",
    "Consider an inclinede three-dimensional planar wavefield $\\tau$ with position $\\mathbf{x}=(x,y,z)$ at time $t$ travelling over an arbitrary array of four receivers on the horizontal $xy$-plane, i.e., the Earth's surface, with receiver position $\\mathbf{r}_n=(x,y)$.\n",
    "The plane wave is monochromatic (of a single frequency) with a unitary amplitude.\n",
    "\n",
    "Propagation of the plane wave is described by a three-dimensional wave vector $\\mathbf{k}_0$, normal to the wavefront, and is related to the wave slowness vector $\\mathbf{p}_0$ by, \n",
    "\n",
    "\\begin{equation}\\mathbf{p}=\\omega^{-1}\\mathbf{k},\\end{equation}\n",
    "\n",
    "with angular frequency $\\omega=2\\pi f$.\n",
    "\n",
    "The wavefront is characterized by wavelength $\\lambda$ and a propagation velocity $c$, related to the the magnitude of $\\mathbf{k}$ and $\\mathbf{p}$ by,\n",
    "\n",
    "\\begin{equation}\\lambda = \\dfrac{2\\pi}{\\lVert\\vec{k}\\rVert} = \\dfrac{f^{-1}}{\\lVert\\vec{p}\\rVert}\\end{equation}\n",
    "\n",
    "with $c = \\lambda f$.\n",
    "\n",
    "The local orientation of the three-dimensional wave or slowness vector is defined by the grazing angle $\\theta$ with respect to the local horizon and azmuth angle $\\phi$ clockwise from north.\n",
    "\n",
    "![figure 2.1](images/plane_wave_array.png)\n",
    "![figure 2.1](images/plane_wave_array_cs.png)\n",
    "\n",
    "The three-dimensional slowness vector denotes,\n",
    "\n",
    "\\begin{equation}\n",
    "\t\\mathbf{p} := \\begin{pmatrix} p_{x} \\\\ p_{y} \\\\ p_{z} \\end{pmatrix}\n",
    "\t=  c^{-1} \\begin{pmatrix} \n",
    "\t\t\\cos \\theta \\ \\sin \\phi \\\\\n",
    "\t\t\\cos \\theta \\ \\cos \\phi \\\\\n",
    "\t\t\\sin \\theta\n",
    "\t\\end{pmatrix},\n",
    "\\end{equation}\n",
    "\n",
    "The wavefron in the receiver plane propagates with slowness $\\mathbf{s}_0$, the projected slowness vector $\\mathbf{p}$ onto the two-dimensional receiver $xy$-plane, given by\n",
    "\n",
    "\\begin{equation}\n",
    "\t\\mathbf{s} := \\begin{pmatrix} s_{x} \\\\ s_{y} \\end{pmatrix}\n",
    "\t= c^{-1}_{\\text{app}} \\begin{pmatrix} \\sin \\phi \\\\ \\cos \\phi \\end{pmatrix}.\n",
    "\\end{equation}\n",
    "\n",
    "The magnitude of the horizontal slowness $\\mathbf{s}$ yields the apparent velocity $c_{\\text{app}}$ which is related to the true propagation velocity of the wave $c$ by,\n",
    "\\begin{equation}\n",
    "\tc_{\\text{app}} = \\frac{c}{\\cos \\theta}.\n",
    "\\end{equation}\n",
    "ranging from $c$ up to infinity depending on the incidence angle $\\theta$. The origin of propagation is indicated by back azimuth $\\phi_b = \\phi ± \\pi$.\n",
    "\n",
    "Green lines in the top-view indicate the wavefront at receiver locations $\\mathbf{r}_n$ corresponding with delay times $\\tau_n$. Delay times in the receiver plane are defined by\n",
    "\\begin{equation}\n",
    "\\tau_n = \\mathbf{s}_0 \\cdot \\mathbf{r}_n\n",
    "\\end{equation}\n",
    "for a propagating plane wave with respect to the array centre coordinate.\n",
    "\n",
    "![animated plane wave](images/planewave.gif)\n"
   ]
  },
  {
   "cell_type": "markdown",
   "metadata": {},
   "source": [
    "## Array Design and Response\n",
    "\n",
    "[Open the array design module in a separate notebook](Interactive_array_design_and_response.ipynb)\n",
    "\n",
    "Start by making an array with a similar design as the one above (3 elements in a triangular configuration with another element in the center)\n",
    "\n",
    "The array response is a theoretical measure for the best estimate or sensitivity of receivers $\\mathbf{r}_n$ to plane wave $\\mathbf{s}_0$ with frequency $f_0$ represented by an infinite aperture array regularly sampled in $\\mathbf{s}$.\n",
    "\\begin{equation}\n",
    "\tR( \\mathbf{s}, \\omega ) = \n",
    "\t\\left|\n",
    "\t\t\\dfrac{1}{N} \\sum_{n=1}^N e^{-i \\omega \\left( \\mathbf{s}-\\mathbf{s}_0 \\right) \\cdot \\mathbf{r}_n }\n",
    "\t\\right|^2\n",
    "\\label{eq:receiver:array-response}.\n",
    "\\end{equation}"
   ]
  },
  {
   "cell_type": "markdown",
   "metadata": {},
   "source": [
    "## Plane wave beamforming\n",
    "\n",
    "Define the horizontal slowness components of a plane wave given a specific back azimuth and apparent velocity.\n",
    "\n",
    "The horizontal slowness shall be used to calculate the time differences $\\tau_n$ at each receiver position given that specific plane wave at the array centre (0,0).\n",
    "Hence, the individual receiver traces need to be shifted with $-\\tau_n$ to time align all individual recordings to beam steer or _focus_ the array towards the given slowness vector."
   ]
  },
  {
   "cell_type": "code",
   "execution_count": null,
   "metadata": {},
   "outputs": [],
   "source": [
    "%matplotlib notebook\n",
    "import numpy as np\n",
    "import matplotlib.pyplot as plt\n",
    "from scipy.stats import f as f_stats"
   ]
  },
  {
   "cell_type": "code",
   "execution_count": null,
   "metadata": {},
   "outputs": [],
   "source": [
    "# %load beam_steering_solution\n",
    "deg2rad = np.pi / 180\n",
    "def theta_app_vel2pxpy(theta, app_vel):\n",
    "    \"\"\"\n",
    "    Calculate the horizontal slowness vector p(px, py) for a propagating\n",
    "    plane wave with back azimuth `theta` and horizontal propagation\n",
    "    velocity (apparent velocity) `app_vel`.\n",
    "    \n",
    "    Parameters\n",
    "    ----------\n",
    "    theta : float\n",
    "        Back azimuth in degrees clockwise from North.\n",
    "    \n",
    "    app_vel : float\n",
    "        Horizontal propagation velocity in m/s.\n",
    "        \n",
    "    Returns\n",
    "    -------\n",
    "    px, py : float\n",
    "        Horizontal components of the slowness vector p.\n",
    "    \"\"\"\n",
    "    # convert theta to radians\n",
    "    theta *= deg2rad\n",
    "    \n",
    "    # write an expression for the px, and py slowness vectors\n",
    "    px = ...\n",
    "    py = ...\n",
    "\n",
    "    return px, py\n",
    "\n",
    "\n",
    "def get_sample_shifts(x, y, px, py, samp_rate=20):\n",
    "    \"\"\"\n",
    "    Calculate the integer sample shifts needed to align the traces for a\n",
    "    given slowness vector `p` describing a propagating plane wave across\n",
    "    an array with configuration `r_n(x_n, y_n)`.\n",
    "    \n",
    "    Parameters\n",
    "    ----------\n",
    "    x, y : array-like\n",
    "        x and y coordinates (m) of the array elements (`n`-elements).\n",
    "        \n",
    "        ..note:: x, y coordinates should be detrended. That is, offsets\n",
    "                 relative to array center such that\n",
    "                 x.mean() = y.mean() = 0.\n",
    "        \n",
    "    px, py : float\n",
    "        Horizontal components of the slowness vector p (s/m).\n",
    "\n",
    "    samp_rate : float\n",
    "        Sampling rate of the data in samples per second (Hz).\n",
    "    \n",
    "    Returns\n",
    "    -------\n",
    "    sample_shifts : array-like\n",
    "        Number of samples needed to be added (shifted) to align traces\n",
    "        with the center.\n",
    "    \"\"\"\n",
    "    # center the array as all parameters are relative to array center.\n",
    "    x, y = np.array((x, y))\n",
    "    \n",
    "    if not np.allclose(np.array((x.mean(), y.mean())), np.zeros(2)):\n",
    "        raise ValueError('Array is not centered at O(0,0). Detrend x, y')\n",
    "    \n",
    "    sample_shifts = -(\n",
    "        samp_rate * (\n",
    "            x * px + y * py\n",
    "        ) + 0.5  # adding 0.5 ensures values are rounded to the nearest int\n",
    "    ).astype(np.int64)\n",
    "    return sample_shifts"
   ]
  },
  {
   "cell_type": "markdown",
   "metadata": {},
   "source": [
    "Copy the x and y coordinates from your array design and find out what are the number of samples needed to shift each trace to time-align a signal arriving from direction $\\theta$ and propagates with apparent velocity $c_{app}$."
   ]
  },
  {
   "cell_type": "code",
   "execution_count": null,
   "metadata": {},
   "outputs": [],
   "source": [
    "# paste coordinates here:\n",
    "x = ...\n",
    "y = ...\n",
    "\n",
    "\n",
    "fig, ax = plt.subplots()\n",
    "ax.set_aspect(1)\n",
    "r_max = np.abs(np.hstack((x, y))).max() * 1.2\n",
    "ax.axis([-r_max, r_max] * 2)\n",
    "\n",
    "theta = 30\n",
    "app_vel = 340\n",
    "sample_shifts = get_sample_shifts(x, y, *theta_app_vel2pxpy(theta, app_vel))\n",
    "for x_, y_, shift in zip(x, y, sample_shifts):\n",
    "    ax.plot(x_, y_, 'ko')\n",
    "    ax.text(x_, y_ + 50, '{} samples'.format(shift),\n",
    "            ha='center', va='bottom')\n",
    "    \n",
    "x1, y1 = r_max * np.array((np.sin(theta * deg2rad), np.cos(theta * deg2rad)))\n",
    "ax.annotate('', (x1, y1), xytext=(0, 0),\n",
    "            arrowprops=dict(arrowstyle='-|>', color='r'))\n",
    "\n",
    "ax.grid(True, which='both', c='0.9', lw=0.5, zorder=0)\n",
    "\n",
    "ax.set_xlabel('x, m')\n",
    "ax.set_ylabel('y, m')\n",
    "\n",
    "ax.set_title('Array configuration')\n"
   ]
  },
  {
   "cell_type": "markdown",
   "metadata": {},
   "source": [
    "## Fisher statistics\n",
    "The Fisher ratio is a metric to evaluate the signal coherency of a series of traces as a whole (thus an array). The Fisher ratio is used to evaluate the time shifted traces. It is based on [Melton and Bailey (1957), Multiple signal correlators, Geophysics](https://library.seg.org/doi/10.1190/1.1438390).\n",
    "\n",
    "Have a look at the article and reproduce the given example using Tables 1 and 2 (page 573 in the article). The tables are already given below. You need to complete apply the correlation algorithm given on page 576 and explaned in the steps above (pages 574 to 577)."
   ]
  },
  {
   "cell_type": "code",
   "execution_count": null,
   "metadata": {},
   "outputs": [],
   "source": [
    "MB57_table_1 = np.array([\n",
    "    [6,23,14,27,23],  # trace a\n",
    "    [12,37,7,38,34],  # trace b ...\n",
    "    [46,19,24,4,27],\n",
    "    [23,32,18,47,14],\n",
    "    [29,25,36,43,28]  # trace e\n",
    "], np.int32)\n",
    "\n",
    "MB57_table_2 = MB57_table_1.copy()\n",
    "\n",
    "# add 12 to column 2 & 5\n",
    "MB57_table_2[:,1] +=  12\n",
    "MB57_table_2[:,4] += -12\n",
    "\n",
    "# N: number of array elements (traces), T: number of samples\n",
    "N, T = MB57_table_1.shape"
   ]
  },
  {
   "cell_type": "markdown",
   "metadata": {},
   "source": [
    "Plot the two sets of traces."
   ]
  },
  {
   "cell_type": "code",
   "execution_count": null,
   "metadata": {
    "scrolled": false
   },
   "outputs": [],
   "source": [
    "# plot\n",
    "fig, (ax1, ax2) = plt.subplots(ncols=2, figsize=(7, 3), sharey=True)\n",
    "fig.subplots_adjust(bottom=0.2)\n",
    "\n",
    "for i, trace in enumerate(MB57_table_1):\n",
    "    line, = ax1.plot(trace, label=chr(65+i))\n",
    "\n",
    "ax1.set_xlabel('sample')\n",
    "ax1.set_ylabel('value')\n",
    "\n",
    "for i, trace in enumerate(MB57_table_2):\n",
    "    line, = ax2.plot(trace, label=chr(65+i))\n",
    "\n",
    "ax2.set_xlabel('sample')\n",
    "\n",
    "# Put a legend below current axis\n",
    "ax2.legend(loc='upper center', bbox_to_anchor=(0, -0.15),\n",
    "           ncol=N, frameon=False)"
   ]
  },
  {
   "cell_type": "markdown",
   "metadata": {},
   "source": [
    "### Exercise:\n",
    "\n",
    "Write a function to evaluate the Fisher ratio.\n",
    "\n",
    "what is the Fisher value of tables 1 and 2?\n"
   ]
  },
  {
   "cell_type": "code",
   "execution_count": null,
   "metadata": {},
   "outputs": [],
   "source": [
    "# %load fratio_solution\n",
    "def compute_fratio(win):\n",
    "    \"\"\"\n",
    "    Function to calculate the Fisher ratio based on Melton and Bailey\n",
    "    [1957].\n",
    "    \n",
    "    Parameters\n",
    "    ----------\n",
    "    win : array-like\n",
    "        2D array with N traces (rows) of length T samples (cols).\n",
    "        \n",
    "    Returns\n",
    "    -------\n",
    "    fratio : float\n",
    "        The Fisher ratio value.\n",
    "    \"\"\"\n",
    "    N, T = win.shape\n",
    "    fratio = ...\n",
    "    return fratio\n",
    "\n",
    "def fratio2snr(fratio, N):\n",
    "    return np.sqrt((fratio - 1) / N)\n",
    "\n",
    "\n",
    "def snr2fratio(snr, N):\n",
    "    return snr**2 * N + 1\n",
    "\n",
    "\n",
    "def fratio_significance(N, T, alpha=0.05):\n",
    "    return f_stats.ppf(1 - alpha, T - 1, T * (N - 1))\n"
   ]
  },
  {
   "cell_type": "markdown",
   "metadata": {},
   "source": [
    "F-ratio table 1 should be 0.654."
   ]
  },
  {
   "cell_type": "code",
   "execution_count": null,
   "metadata": {},
   "outputs": [],
   "source": [
    "compute_fratio(MB57_table_1)"
   ]
  },
  {
   "cell_type": "markdown",
   "metadata": {},
   "source": [
    "F-ratio table 2 should be 3.386."
   ]
  },
  {
   "cell_type": "code",
   "execution_count": null,
   "metadata": {},
   "outputs": [],
   "source": [
    "compute_fratio(MB57_table_2)"
   ]
  },
  {
   "cell_type": "markdown",
   "metadata": {},
   "source": [
    "You can check the significance of the F-ratio given the number of receivers $N$ and time samples $T$."
   ]
  },
  {
   "cell_type": "code",
   "execution_count": null,
   "metadata": {},
   "outputs": [],
   "source": [
    "fratio_significance(N,T,0.05)"
   ]
  },
  {
   "cell_type": "markdown",
   "metadata": {},
   "source": [
    "The Fisher ratio is directly related to the signal-to-noise ratio (SNR) of the array:"
   ]
  },
  {
   "cell_type": "code",
   "execution_count": null,
   "metadata": {},
   "outputs": [],
   "source": [
    "fratio2snr(compute_fratio(MB57_table_2),N)"
   ]
  },
  {
   "cell_type": "markdown",
   "metadata": {},
   "source": [
    "## Why Fisher ratio?\n",
    "\n",
    "There are many beamforming algorithms. They are divided into the forward and  inverse approach. In the inverse approach, a pair-wise cross-correlation method is used to resolve the lag time that provides the maximum correlation. This is an expensive operation from a computational point of view:\n",
    "\n",
    "\\begin{equation}\n",
    "    \\frac{N!}{2(N-2)!} \\cdot 2T-1\n",
    "\\end{equation}\n",
    "\n",
    "For all pair combinations in an 8-element array with a window size of 400 seconds this amounts to 28 (combinations) x 798 (samples) = 22,344 operations (per window).\n",
    "\n",
    "This will resolve one lag time per element pair and then a wave needs to be fitted to the lag times between all elements. In case of low SNR this can result in inaccurate lag times. Furthermore, as this method uses pairs of sensors, a strongly correlated signal (or noise) between two elements can introduce an error to the plane wave solution.\n",
    "\n",
    "In the forward approach, plane waves are predefined by a set of slowness vectors. Time shifts are pre-calculated with regard to the array geometry and sampling rate.\n",
    "\n",
    "For each slowness vector the Fisher ratio is evaluated. The maximum value corresponds to the slowness of the most coherent plane wave. The back azimuth and apparent velocity can be retrieved from this slowness. The bestbeam, is then constructed by delay and sum of the traces in each time window.\n",
    "\n",
    "As the Fisher ratio can be evaluated over the entire grid, one can resolve not only the global maximum but also local maxima which may reveal multiple sources. A word of caution should be mentioned here with regard to side-lobes which you saw in the array design and response demo.\n",
    "\n",
    "\n",
    "In case of low SNR or multiple sources, the forward approach using an F-detector out performs the cross-correlation methods."
   ]
  },
  {
   "cell_type": "code",
   "execution_count": 2,
   "metadata": {
    "ExecuteTime": {
     "end_time": "2019-03-06T12:02:38.491088Z",
     "start_time": "2019-03-06T12:02:38.444037Z"
    }
   },
   "outputs": [],
   "source": [
    "from timefisher import beamform, _do_loops_python\n",
    "_do_loops_python??"
   ]
  },
  {
   "cell_type": "code",
   "execution_count": null,
   "metadata": {},
   "outputs": [],
   "source": [
    "from grid import Grid\n",
    "grid = Grid(app_vel_params=(200, 50))\n",
    "\n",
    "plt.close('all')\n",
    "grid.plot_pxpy()"
   ]
  },
  {
   "cell_type": "markdown",
   "metadata": {},
   "source": [
    "## Example"
   ]
  },
  {
   "cell_type": "code",
   "execution_count": null,
   "metadata": {},
   "outputs": [],
   "source": [
    "# get the data and array metadata (inventory)\n",
    "\n",
    "from obspy import UTCDateTime\n",
    "from obspy.clients.fdsn import Client as fdsnClient\n",
    "\n",
    "# Plofkraak @ CIA\n",
    "# sta = 'CIA*'\n",
    "# t0  = obspy.UTCDateTime(\"2019-02-14T02:20:00.000Z\");\n",
    "# t1  = obspy.UTCDateTime(\"2019-02-14T02:35:00.000Z\");\n",
    "\n",
    "# Perseids meteor shower @ DBN\n",
    "sta = 'DBN*'\n",
    "t0  = UTCDateTime(\"2018-08-13T05:00:00.000Z\");\n",
    "t1  = UTCDateTime(\"2018-08-13T05:15:00.000Z\");\n",
    "\n",
    "# get StationXML\n",
    "client = fdsnClient('orfeus')\n",
    "net = 'NL'\n",
    "cha = 'HDF'\n",
    "\n",
    "inv = client.get_stations(\n",
    "    network=net,\n",
    "    station=sta,\n",
    "    channel=cha,\n",
    "    starttime=t0,\n",
    "    endtime=t1,\n",
    "    level='response'\n",
    ")\n",
    "print(inv)\n",
    "\n",
    "inv.write(\n",
    "    '../../Data/DBN.xml', format='StationXML'\n",
    ")"
   ]
  },
  {
   "cell_type": "raw",
   "metadata": {},
   "source": [
    "from obspy import read_inventory\n",
    "inv = read_inventory(\n",
    "    '../../Data/DBN.xml', format='StationXML'\n",
    ")\n",
    "print(inv)\n"
   ]
  },
  {
   "cell_type": "code",
   "execution_count": null,
   "metadata": {},
   "outputs": [],
   "source": [
    "try:\n",
    "    stream = client.get_waveforms(net, sta, '*', cha, t0, t1).sort()\n",
    "except:\n",
    "    raise ValueError('No data found for {}.{}.{}.{}.*'.format(net, sta, '*', cha))\n",
    "    \n",
    "stream.write(\n",
    "    '../../Data/DBN.20180813050000.mseed', format='MSEED'\n",
    ")\n",
    "\n",
    "stream.merge(fill_value=0)\n",
    "filter_params = (0.5, 1, 20, 25)\n",
    "stream.remove_response(inv, pre_filt=filter_params)\n",
    "\n",
    "fig, ax = plt.subplots(stream.count(), sharex=True, sharey=True,\n",
    "                       figsize=(7, 1 * stream.count()))\n",
    "fig.subplots_adjust(top=0.95, hspace=0)\n",
    "\n",
    "for i, tr in enumerate(stream):\n",
    "    axi = ax[i]\n",
    "    axi.plot(tr.times(), tr.data, 'k', lw=0.5)\n",
    "    axi.text(0.95, 0.95, tr.id, ha='right', va='top', transform=axi.transAxes)\n",
    "    axi.grid(True, axis='x')\n",
    "    \n",
    "axi.set_xlabel('time since {}, seconds'.format(t0.strftime('%FT%T')))\n",
    "axi.set_ylabel('pressure, Pa')"
   ]
  },
  {
   "cell_type": "raw",
   "metadata": {},
   "source": [
    "from obspy import read\n",
    "stream = read(\n",
    "    '../../Data/DBN.20180813050000.mseed', format='MSEED'\n",
    ").sort()\n",
    "\n",
    "stream.merge(fill_value=0)\n",
    "filter_params = (1, 3, 20, 25)\n",
    "stream.remove_response(inv, pre_filt=filter_params)\n",
    "\n",
    "fig, ax = plt.subplots(stream.count(), sharex=True, sharey=True,\n",
    "                       figsize=(7, 1 * stream.count()))\n",
    "fig.subplots_adjust(top=0.95, hspace=0)\n",
    "\n",
    "for i, tr in enumerate(stream):\n",
    "    axi = ax[i]\n",
    "    axi.plot(tr.times(), tr.data, 'k', lw=0.5)\n",
    "    axi.text(0.95, 0.95, tr.id, ha='right', va='top', transform=axi.transAxes)\n",
    "    axi.grid(True, axis='x')\n",
    "    \n",
    "axi.set_xlabel('time since {}, seconds'.format(t0.strftime('%FT%T')))\n",
    "axi.set_ylabel('pressure, Pa')"
   ]
  },
  {
   "cell_type": "code",
   "execution_count": null,
   "metadata": {},
   "outputs": [],
   "source": [
    "from ipywidgets import interactive, fixed, Layout, HBox, VBox\n",
    "import ipywidgets as widgets\n",
    "\n",
    "from array_response_widget import Array\n",
    "\n",
    "array = Array(inv)\n",
    "array.plot_array_response(f_min=3, f_max=3)\n",
    "\n",
    "out = widgets.Output()\n",
    "\n",
    "cmaps = plt.colormaps()\n",
    "w = interactive(\n",
    "    array.__update_widget__,\n",
    "    \n",
    "    c_app=widgets.IntSlider(\n",
    "        value=280, min=200, max=3000, step=100, continuous_update=False,\n",
    "        description='C min, m/s'\n",
    "    ),\n",
    "    c_steps=widgets.IntSlider(\n",
    "        value=50, min=10, max=150, step=10, continuous_update=False,\n",
    "        description='steps', layout=Layout(width='250px')\n",
    "    ),\n",
    "    \n",
    "    fminmax=widgets.FloatRangeSlider(\n",
    "        value=[3, 3], min=0.05, max=20, step=0.01,\n",
    "        continuous_update=False, description='Frequency range, Hz',\n",
    "        style={'description_width': 'initial'}\n",
    "    ),\n",
    "    f_steps=widgets.IntSlider(\n",
    "        value=1, min=1, max=50, step=1, continuous_update=False,\n",
    "        description='steps', layout=Layout(width='250px')\n",
    "    ),\n",
    "    \n",
    "    log=widgets.Checkbox(\n",
    "        value=False, description='Log scale'),\n",
    "    cmap=widgets.Dropdown(\n",
    "        value='inferno_r', options=cmaps, description='cmap',\n",
    "                              layout=Layout(width='180px')),\n",
    ")\n",
    "\n",
    "center_b = widgets.Button(\n",
    "    description='Center array', button_style='info', layout=Layout(width='100px')\n",
    ")\n",
    "center_b.on_click(array.__center__)\n",
    "\n",
    "reset_b = widgets.Button(\n",
    "    description='Reset', button_style='danger', layout=Layout(width='100px')\n",
    ")\n",
    "reset_b.on_click(array.__reset__)\n",
    "\n",
    "controls = VBox([out,\n",
    "                 HBox([center_b]),\n",
    "                 HBox(w.children[:2]),\n",
    "                 HBox(w.children[2:4]),\n",
    "                 HBox(w.children[4:]),\n",
    "                 HBox([reset_b])])\n",
    "controls"
   ]
  },
  {
   "cell_type": "markdown",
   "metadata": {},
   "source": [
    "### Preparing the data\n",
    "\n",
    "We have already detrended, tapered, filtered, and deconvolved the instrument response. We need to make sure that all traces begin and end in the same time and have the same number of samples, and add the x, y attributes to each trace, the coordinates of the corresponding array element."
   ]
  },
  {
   "cell_type": "code",
   "execution_count": null,
   "metadata": {},
   "outputs": [],
   "source": [
    "# trim to the same start and end time\n",
    "stream.trim(t0, t1, pad=True, fill_value=0)\n",
    "\n",
    "# assign the x, y attributes and validate smapling rate and number of samples\n",
    "samp_rate = []\n",
    "npts = []\n",
    "for i, tr, in enumerate(stream):\n",
    "    tr.x, tr.y = array.x[i], array.y[i]\n",
    "    samp_rate.append(tr.stats.sampling_rate)\n",
    "    npts.append(tr.stats.npts)\n",
    "    \n",
    "if np.any(np.array(samp_rate) - tr.stats.sampling_rate):\n",
    "    raise RuntimeError(\"Sampling rate does not match. {}\".format(samp_rate))\n",
    "if np.any(np.array(npts) - tr.stats.npts):\n",
    "    raise RuntimeError(\"Number of samples does not match. {}\".format(npts))"
   ]
  },
  {
   "cell_type": "code",
   "execution_count": null,
   "metadata": {},
   "outputs": [],
   "source": [
    "from timefisher import beamform, fratio2snr, plot_results\n",
    "(bestbeam, times, fratio_max,\n",
    " baz, app_vel, fgrid) = beamform(stream, grid, 10, 0.9)\n",
    "\n",
    "snr = fratio2snr(fratio_max, stream.count())"
   ]
  },
  {
   "cell_type": "code",
   "execution_count": null,
   "metadata": {},
   "outputs": [],
   "source": [
    "fig, ax, cb1, cb2 = plot_results(\n",
    "    bestbeam, times, fratio_max, baz, app_vel, snr, stream, utctime=True\n",
    ")\n",
    "\n",
    "ax[0].set_ylim(3, 20)\n",
    "ax[0].images[0].set_clim(1e-4, 1e-3)"
   ]
  },
  {
   "cell_type": "code",
   "execution_count": null,
   "metadata": {},
   "outputs": [],
   "source": []
  }
 ],
 "metadata": {
  "kernelspec": {
   "display_name": "Python 3",
   "language": "python",
   "name": "python3"
  },
  "language_info": {
   "codemirror_mode": {
    "name": "ipython",
    "version": 3
   },
   "file_extension": ".py",
   "mimetype": "text/x-python",
   "name": "python",
   "nbconvert_exporter": "python",
   "pygments_lexer": "ipython3",
   "version": "3.7.1"
  },
  "toc": {
   "base_numbering": 1,
   "nav_menu": {},
   "number_sections": true,
   "sideBar": true,
   "skip_h1_title": false,
   "title_cell": "Table of Contents",
   "title_sidebar": "Contents",
   "toc_cell": false,
   "toc_position": {},
   "toc_section_display": true,
   "toc_window_display": false
  },
  "varInspector": {
   "cols": {
    "lenName": 16,
    "lenType": 16,
    "lenVar": 40
   },
   "kernels_config": {
    "python": {
     "delete_cmd_postfix": "",
     "delete_cmd_prefix": "del ",
     "library": "var_list.py",
     "varRefreshCmd": "print(var_dic_list())"
    },
    "r": {
     "delete_cmd_postfix": ") ",
     "delete_cmd_prefix": "rm(",
     "library": "var_list.r",
     "varRefreshCmd": "cat(var_dic_list()) "
    }
   },
   "types_to_exclude": [
    "module",
    "function",
    "builtin_function_or_method",
    "instance",
    "_Feature"
   ],
   "window_display": false
  }
 },
 "nbformat": 4,
 "nbformat_minor": 2
}
